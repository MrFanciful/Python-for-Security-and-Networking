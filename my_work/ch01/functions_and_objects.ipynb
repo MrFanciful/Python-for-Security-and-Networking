{
 "cells": [
  {
   "cell_type": "code",
   "id": "initial_id",
   "metadata": {
    "collapsed": true,
    "ExecuteTime": {
     "end_time": "2025-05-30T11:11:23.735637Z",
     "start_time": "2025-05-30T11:11:23.732479Z"
    }
   },
   "source": [
    "def contains(dictionary, item):\n",
    "    for key, value in dictionary.items():\n",
    "        if value == item:\n",
    "            return True\n",
    "    return False"
   ],
   "outputs": [],
   "execution_count": 1
  },
  {
   "metadata": {
    "ExecuteTime": {
     "end_time": "2025-05-30T11:11:56.440614Z",
     "start_time": "2025-05-30T11:11:56.438240Z"
    }
   },
   "cell_type": "code",
   "source": "dictionary = {1: 300, 2:200, 3:300}",
   "id": "aac61c37e1b8fea8",
   "outputs": [],
   "execution_count": 2
  },
  {
   "metadata": {
    "ExecuteTime": {
     "end_time": "2025-05-30T11:12:17.039299Z",
     "start_time": "2025-05-30T11:12:17.036569Z"
    }
   },
   "cell_type": "code",
   "source": [
    "print(contains(dictionary, 200))\n",
    "print(contains(dictionary, 300))\n",
    "print(contains(dictionary, 350))"
   ],
   "id": "9159c3583f359ec0",
   "outputs": [
    {
     "name": "stdout",
     "output_type": "stream",
     "text": [
      "True\n",
      "True\n",
      "False\n"
     ]
    }
   ],
   "execution_count": 3
  },
  {
   "metadata": {},
   "cell_type": "code",
   "outputs": [],
   "execution_count": null,
   "source": "",
   "id": "603af9e5bea576e0"
  }
 ],
 "metadata": {
  "kernelspec": {
   "display_name": "Python 3",
   "language": "python",
   "name": "python3"
  },
  "language_info": {
   "codemirror_mode": {
    "name": "ipython",
    "version": 2
   },
   "file_extension": ".py",
   "mimetype": "text/x-python",
   "name": "python",
   "nbconvert_exporter": "python",
   "pygments_lexer": "ipython2",
   "version": "2.7.6"
  }
 },
 "nbformat": 4,
 "nbformat_minor": 5
}
