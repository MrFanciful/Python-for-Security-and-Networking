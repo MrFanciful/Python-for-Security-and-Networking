{
 "cells": [
  {
   "cell_type": "code",
   "id": "initial_id",
   "metadata": {
    "collapsed": true,
    "ExecuteTime": {
     "end_time": "2025-06-03T13:57:07.959425Z",
     "start_time": "2025-06-03T13:57:07.956909Z"
    }
   },
   "source": [
    "\n",
    "def contains(dictionary, item):\n",
    "    for key, value in dictionary.items():\n",
    "        if value == item:\n",
    "            return True\n",
    "    return False"
   ],
   "outputs": [],
   "execution_count": 2
  },
  {
   "metadata": {
    "ExecuteTime": {
     "end_time": "2025-06-03T13:57:07.982870Z",
     "start_time": "2025-06-03T13:57:07.979512Z"
    }
   },
   "cell_type": "code",
   "source": "dictionary = {1: 300, 2:200, 3:300}",
   "id": "aac61c37e1b8fea8",
   "outputs": [],
   "execution_count": 3
  },
  {
   "metadata": {
    "ExecuteTime": {
     "end_time": "2025-06-03T13:57:08.024769Z",
     "start_time": "2025-06-03T13:57:08.021820Z"
    }
   },
   "cell_type": "code",
   "source": [
    "print(contains(dictionary, 200))\n",
    "print(contains(dictionary, 300))\n",
    "print(contains(dictionary, 350))"
   ],
   "id": "9159c3583f359ec0",
   "outputs": [
    {
     "name": "stdout",
     "output_type": "stream",
     "text": [
      "True\n",
      "True\n",
      "False\n"
     ]
    }
   ],
   "execution_count": 4
  },
  {
   "metadata": {
    "ExecuteTime": {
     "end_time": "2025-06-03T14:13:33.055582Z",
     "start_time": "2025-06-03T14:13:33.052866Z"
    }
   },
   "cell_type": "code",
   "source": [
    "class Protocol(object):\n",
    "    def __init__(self, name, number, description):\n",
    "        self.name = name\n",
    "        self.number = number\n",
    "        self.description = description\n",
    "\n",
    "    def getProtocolInfo(self):\n",
    "        return f\"{self.name} {str(self.number)} {self.description}\""
   ],
   "id": "603af9e5bea576e0",
   "outputs": [],
   "execution_count": 12
  },
  {
   "metadata": {
    "ExecuteTime": {
     "end_time": "2025-06-03T14:13:33.448930Z",
     "start_time": "2025-06-03T14:13:33.446562Z"
    }
   },
   "cell_type": "code",
   "source": "https_protocol = Protocol('HTTPS', 443, 'Hypertext Transfer Protocol Secure')",
   "id": "afc1ab135ef5e934",
   "outputs": [],
   "execution_count": 13
  },
  {
   "metadata": {
    "ExecuteTime": {
     "end_time": "2025-06-03T14:13:33.625719Z",
     "start_time": "2025-06-03T14:13:33.622897Z"
    }
   },
   "cell_type": "code",
   "source": "https_protocol.getProtocolInfo()",
   "id": "bf441b2e7d959320",
   "outputs": [
    {
     "data": {
      "text/plain": [
       "'HTTPS 443 Hypertext Transfer Protocol Secure'"
      ]
     },
     "execution_count": 14,
     "metadata": {},
     "output_type": "execute_result"
    }
   ],
   "execution_count": 14
  },
  {
   "metadata": {},
   "cell_type": "code",
   "outputs": [],
   "execution_count": null,
   "source": "",
   "id": "411d7b58b7c29c18"
  }
 ],
 "metadata": {
  "kernelspec": {
   "display_name": "Python 3",
   "language": "python",
   "name": "python3"
  },
  "language_info": {
   "codemirror_mode": {
    "name": "ipython",
    "version": 2
   },
   "file_extension": ".py",
   "mimetype": "text/x-python",
   "name": "python",
   "nbconvert_exporter": "python",
   "pygments_lexer": "ipython2",
   "version": "2.7.6"
  }
 },
 "nbformat": 4,
 "nbformat_minor": 5
}
