{
 "cells": [
  {
   "cell_type": "code",
   "id": "initial_id",
   "metadata": {
    "collapsed": true,
    "ExecuteTime": {
     "end_time": "2025-05-22T14:37:33.680804Z",
     "start_time": "2025-05-22T14:37:33.677158Z"
    }
   },
   "source": "protocol_list = []",
   "outputs": [],
   "execution_count": 1
  },
  {
   "metadata": {
    "ExecuteTime": {
     "end_time": "2025-05-22T14:40:23.539942Z",
     "start_time": "2025-05-22T14:40:23.537012Z"
    }
   },
   "cell_type": "code",
   "source": [
    "protocol_list.append('ftp')\n",
    "protocol_list.append('ssh')\n",
    "protocol_list.append('smtp')\n",
    "protocol_list.append('http')"
   ],
   "id": "b77c575de77172d2",
   "outputs": [],
   "execution_count": 2
  },
  {
   "metadata": {
    "ExecuteTime": {
     "end_time": "2025-05-22T14:40:28.111210Z",
     "start_time": "2025-05-22T14:40:28.105818Z"
    }
   },
   "cell_type": "code",
   "source": "protocol_list",
   "id": "4be5d531f62f690c",
   "outputs": [
    {
     "data": {
      "text/plain": [
       "['ftp', 'ssh', 'smtp', 'http']"
      ]
     },
     "execution_count": 3,
     "metadata": {},
     "output_type": "execute_result"
    }
   ],
   "execution_count": 3
  },
  {
   "metadata": {
    "ExecuteTime": {
     "end_time": "2025-05-22T14:41:01.241232Z",
     "start_time": "2025-05-22T14:41:01.237863Z"
    }
   },
   "cell_type": "code",
   "source": "protocol_list.sort()",
   "id": "c3834694bc3716a8",
   "outputs": [],
   "execution_count": 4
  },
  {
   "metadata": {
    "ExecuteTime": {
     "end_time": "2025-05-22T14:41:04.569656Z",
     "start_time": "2025-05-22T14:41:04.564483Z"
    }
   },
   "cell_type": "code",
   "source": "protocol_list",
   "id": "be701df8965dad5b",
   "outputs": [
    {
     "data": {
      "text/plain": [
       "['ftp', 'http', 'smtp', 'ssh']"
      ]
     },
     "execution_count": 5,
     "metadata": {},
     "output_type": "execute_result"
    }
   ],
   "execution_count": 5
  },
  {
   "metadata": {
    "ExecuteTime": {
     "end_time": "2025-05-22T14:41:13.189542Z",
     "start_time": "2025-05-22T14:41:13.183269Z"
    }
   },
   "cell_type": "code",
   "source": "type(protocol_list)",
   "id": "64e3f3665ced66ca",
   "outputs": [
    {
     "data": {
      "text/plain": [
       "list"
      ]
     },
     "execution_count": 6,
     "metadata": {},
     "output_type": "execute_result"
    }
   ],
   "execution_count": 6
  },
  {
   "metadata": {
    "ExecuteTime": {
     "end_time": "2025-05-22T14:41:17.519830Z",
     "start_time": "2025-05-22T14:41:17.513625Z"
    }
   },
   "cell_type": "code",
   "source": "len(protocol_list)",
   "id": "8ebe253cddd6724e",
   "outputs": [
    {
     "data": {
      "text/plain": [
       "4"
      ]
     },
     "execution_count": 7,
     "metadata": {},
     "output_type": "execute_result"
    }
   ],
   "execution_count": 7
  },
  {
   "metadata": {
    "ExecuteTime": {
     "end_time": "2025-05-22T14:42:42.593372Z",
     "start_time": "2025-05-22T14:42:42.589089Z"
    }
   },
   "cell_type": "code",
   "source": "position = protocol_list.index('ssh')",
   "id": "14fab2843b00466f",
   "outputs": [],
   "execution_count": 8
  },
  {
   "metadata": {
    "ExecuteTime": {
     "end_time": "2025-05-22T14:43:05.316928Z",
     "start_time": "2025-05-22T14:43:05.311108Z"
    }
   },
   "cell_type": "code",
   "source": "print(f\"SSH position is {position}\")",
   "id": "4988e9cf08b9c1f9",
   "outputs": [
    {
     "name": "stdout",
     "output_type": "stream",
     "text": [
      "SSH position is 3\n"
     ]
    }
   ],
   "execution_count": 9
  },
  {
   "metadata": {
    "ExecuteTime": {
     "end_time": "2025-05-22T14:43:14.545227Z",
     "start_time": "2025-05-22T14:43:14.542419Z"
    }
   },
   "cell_type": "code",
   "source": "protocol_list.remove('ssh')",
   "id": "b6639feb9af63486",
   "outputs": [],
   "execution_count": 10
  },
  {
   "metadata": {
    "ExecuteTime": {
     "end_time": "2025-05-22T14:45:08.215922Z",
     "start_time": "2025-05-22T14:45:08.210440Z"
    }
   },
   "cell_type": "code",
   "source": "protocol_list",
   "id": "2f03d34303053626",
   "outputs": [
    {
     "data": {
      "text/plain": [
       "['ftp', 'http', 'smtp']"
      ]
     },
     "execution_count": 11,
     "metadata": {},
     "output_type": "execute_result"
    }
   ],
   "execution_count": 11
  },
  {
   "metadata": {
    "ExecuteTime": {
     "end_time": "2025-05-22T14:45:19.332379Z",
     "start_time": "2025-05-22T14:45:19.328430Z"
    }
   },
   "cell_type": "code",
   "source": "count = len(protocol_list)",
   "id": "f6a5bd532258175f",
   "outputs": [],
   "execution_count": 12
  },
  {
   "metadata": {
    "ExecuteTime": {
     "end_time": "2025-05-22T14:45:37.596262Z",
     "start_time": "2025-05-22T14:45:37.591670Z"
    }
   },
   "cell_type": "code",
   "source": "print(f\"Protocol elements: {count}\")",
   "id": "3d1b8c621a3effc",
   "outputs": [
    {
     "name": "stdout",
     "output_type": "stream",
     "text": [
      "Protocol elements: 3\n"
     ]
    }
   ],
   "execution_count": 13
  },
  {
   "metadata": {
    "ExecuteTime": {
     "end_time": "2025-05-22T14:46:54.109808Z",
     "start_time": "2025-05-22T14:46:54.106731Z"
    }
   },
   "cell_type": "code",
   "source": [
    "for protocol in protocol_list:\n",
    "    print(protocol)"
   ],
   "id": "ee9bded1d86b2389",
   "outputs": [
    {
     "name": "stdout",
     "output_type": "stream",
     "text": [
      "ftp\n",
      "http\n",
      "smtp\n"
     ]
    }
   ],
   "execution_count": 14
  },
  {
   "metadata": {
    "ExecuteTime": {
     "end_time": "2025-05-22T14:55:08.517309Z",
     "start_time": "2025-05-22T14:55:08.514553Z"
    }
   },
   "cell_type": "code",
   "source": "responses = [200, 400, 403, 500]",
   "id": "6f9900c211f7956c",
   "outputs": [],
   "execution_count": 16
  },
  {
   "metadata": {
    "ExecuteTime": {
     "end_time": "2025-05-22T15:12:13.507624Z",
     "start_time": "2025-05-22T15:12:13.503630Z"
    }
   },
   "cell_type": "code",
   "source": "'https' in protocol_list",
   "id": "76699da414b8a0d7",
   "outputs": [
    {
     "data": {
      "text/plain": [
       "False"
      ]
     },
     "execution_count": 17,
     "metadata": {},
     "output_type": "execute_result"
    }
   ],
   "execution_count": 17
  },
  {
   "metadata": {
    "ExecuteTime": {
     "end_time": "2025-05-22T15:12:17.910953Z",
     "start_time": "2025-05-22T15:12:17.905962Z"
    }
   },
   "cell_type": "code",
   "source": "'http' in protocol_list",
   "id": "5b4e12187a55394",
   "outputs": [
    {
     "data": {
      "text/plain": [
       "True"
      ]
     },
     "execution_count": 18,
     "metadata": {},
     "output_type": "execute_result"
    }
   ],
   "execution_count": 18
  },
  {
   "metadata": {
    "ExecuteTime": {
     "end_time": "2025-05-22T15:15:58.304938Z",
     "start_time": "2025-05-22T15:15:58.302092Z"
    }
   },
   "cell_type": "code",
   "source": "protocol_list.append('ssh')",
   "id": "b6bc122cdbbd8a66",
   "outputs": [],
   "execution_count": 21
  },
  {
   "metadata": {
    "ExecuteTime": {
     "end_time": "2025-05-22T15:16:00.638712Z",
     "start_time": "2025-05-22T15:16:00.635661Z"
    }
   },
   "cell_type": "code",
   "source": [
    "element_to_find = 'ssh'\n",
    "for i in range(len(protocol_list)):\n",
    "    if element_to_find in protocol_list[i]:\n",
    "        print(f\"Element {i} found at in {i}\")\n",
    "        break"
   ],
   "id": "d42c76591726e42e",
   "outputs": [
    {
     "name": "stdout",
     "output_type": "stream",
     "text": [
      "Element 3 found at in 3\n"
     ]
    }
   ],
   "execution_count": 22
  },
  {
   "metadata": {},
   "cell_type": "code",
   "outputs": [],
   "execution_count": null,
   "source": "",
   "id": "a490c92bf5c6501e"
  }
 ],
 "metadata": {
  "kernelspec": {
   "display_name": "Python 3",
   "language": "python",
   "name": "python3"
  },
  "language_info": {
   "codemirror_mode": {
    "name": "ipython",
    "version": 2
   },
   "file_extension": ".py",
   "mimetype": "text/x-python",
   "name": "python",
   "nbconvert_exporter": "python",
   "pygments_lexer": "ipython2",
   "version": "2.7.6"
  }
 },
 "nbformat": 4,
 "nbformat_minor": 5
}
