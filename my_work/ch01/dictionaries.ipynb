{
 "cells": [
  {
   "cell_type": "code",
   "id": "initial_id",
   "metadata": {
    "collapsed": true,
    "ExecuteTime": {
     "end_time": "2025-05-30T10:08:11.929363Z",
     "start_time": "2025-05-30T10:08:11.924372Z"
    }
   },
   "source": "services = {'ftp': 21, 'ssh': 22, 'smtp': 25, 'http': 80}",
   "outputs": [],
   "execution_count": 1
  },
  {
   "metadata": {
    "ExecuteTime": {
     "end_time": "2025-05-30T10:08:11.959939Z",
     "start_time": "2025-05-30T10:08:11.953537Z"
    }
   },
   "cell_type": "code",
   "source": "services",
   "id": "9eeccb0007b3da4f",
   "outputs": [
    {
     "data": {
      "text/plain": [
       "{'ftp': 21, 'ssh': 22, 'smtp': 25, 'http': 80}"
      ]
     },
     "execution_count": 2,
     "metadata": {},
     "output_type": "execute_result"
    }
   ],
   "execution_count": 2
  },
  {
   "metadata": {
    "ExecuteTime": {
     "end_time": "2025-05-30T10:08:12.598839Z",
     "start_time": "2025-05-30T10:08:12.593711Z"
    }
   },
   "cell_type": "code",
   "source": "type(services)",
   "id": "53d3a5c6b98baa8d",
   "outputs": [
    {
     "data": {
      "text/plain": [
       "dict"
      ]
     },
     "execution_count": 3,
     "metadata": {},
     "output_type": "execute_result"
    }
   ],
   "execution_count": 3
  },
  {
   "metadata": {
    "ExecuteTime": {
     "end_time": "2025-05-30T10:08:12.619995Z",
     "start_time": "2025-05-30T10:08:12.614411Z"
    }
   },
   "cell_type": "code",
   "source": "services['ftp']",
   "id": "b90eb813cb067e62",
   "outputs": [
    {
     "data": {
      "text/plain": [
       "21"
      ]
     },
     "execution_count": 4,
     "metadata": {},
     "output_type": "execute_result"
    }
   ],
   "execution_count": 4
  },
  {
   "metadata": {
    "ExecuteTime": {
     "end_time": "2025-05-30T10:08:12.757148Z",
     "start_time": "2025-05-30T10:08:12.752658Z"
    }
   },
   "cell_type": "code",
   "source": "services.get('ssh')",
   "id": "67201ac125910a29",
   "outputs": [
    {
     "data": {
      "text/plain": [
       "22"
      ]
     },
     "execution_count": 5,
     "metadata": {},
     "output_type": "execute_result"
    }
   ],
   "execution_count": 5
  },
  {
   "metadata": {
    "ExecuteTime": {
     "end_time": "2025-05-30T10:08:12.823596Z",
     "start_time": "2025-05-30T10:08:12.818016Z"
    }
   },
   "cell_type": "code",
   "source": "services.get('gopher', 'service not found')",
   "id": "419e9fcc70bf96e2",
   "outputs": [
    {
     "data": {
      "text/plain": [
       "'service not found'"
      ]
     },
     "execution_count": 6,
     "metadata": {},
     "output_type": "execute_result"
    }
   ],
   "execution_count": 6
  },
  {
   "metadata": {
    "ExecuteTime": {
     "end_time": "2025-05-30T10:08:31.724712Z",
     "start_time": "2025-05-30T10:08:31.722260Z"
    }
   },
   "cell_type": "code",
   "source": "type(services.get('gopher'))",
   "id": "7cd757e28502cddb",
   "outputs": [
    {
     "data": {
      "text/plain": [
       "NoneType"
      ]
     },
     "execution_count": 7,
     "metadata": {},
     "output_type": "execute_result"
    }
   ],
   "execution_count": 7
  },
  {
   "metadata": {
    "ExecuteTime": {
     "end_time": "2025-05-30T10:17:09.506615Z",
     "start_time": "2025-05-30T10:17:09.502076Z"
    }
   },
   "cell_type": "code",
   "source": [
    "services = {'ftp': 21, 'ssh': 22, 'smtp': 25, 'http': 80}\n",
    "services2 = {'ftp': 21, 'ssh': 22, 'smtp': 25, 'ldap': 389}"
   ],
   "id": "9741d318a3f06d3d",
   "outputs": [],
   "execution_count": 8
  },
  {
   "metadata": {
    "ExecuteTime": {
     "end_time": "2025-05-30T10:17:23.273321Z",
     "start_time": "2025-05-30T10:17:23.270286Z"
    }
   },
   "cell_type": "code",
   "source": [
    "services.update(services2)\n",
    "services"
   ],
   "id": "d9c5f5f71eaa4415",
   "outputs": [
    {
     "data": {
      "text/plain": [
       "{'ftp': 21, 'ssh': 22, 'smtp': 25, 'http': 80, 'ldap': 389}"
      ]
     },
     "execution_count": 9,
     "metadata": {},
     "output_type": "execute_result"
    }
   ],
   "execution_count": 9
  },
  {
   "metadata": {
    "ExecuteTime": {
     "end_time": "2025-05-30T10:24:55.256722Z",
     "start_time": "2025-05-30T10:24:55.251488Z"
    }
   },
   "cell_type": "code",
   "source": [
    "services['http'] = 8080\n",
    "services"
   ],
   "id": "80ecd19e18ec370c",
   "outputs": [
    {
     "data": {
      "text/plain": [
       "{'ftp': 21, 'ssh': 22, 'smtp': 25, 'http': 8080, 'ldap': 389}"
      ]
     },
     "execution_count": 10,
     "metadata": {},
     "output_type": "execute_result"
    }
   ],
   "execution_count": 10
  },
  {
   "metadata": {
    "ExecuteTime": {
     "end_time": "2025-05-30T10:25:25.080855Z",
     "start_time": "2025-05-30T10:25:25.075568Z"
    }
   },
   "cell_type": "code",
   "source": [
    "for key, value in services.items():\n",
    "    print(key, value)"
   ],
   "id": "f362c6dcac38354f",
   "outputs": [
    {
     "name": "stdout",
     "output_type": "stream",
     "text": [
      "ftp 21\n",
      "ssh 22\n",
      "smtp 25\n",
      "http 8080\n",
      "ldap 389\n"
     ]
    }
   ],
   "execution_count": 11
  },
  {
   "metadata": {
    "ExecuteTime": {
     "end_time": "2025-05-30T10:36:46.396721Z",
     "start_time": "2025-05-30T10:36:46.393260Z"
    }
   },
   "cell_type": "code",
   "source": "services = {'ftp': 21, 'ssh': 22, 'smtp': 25, 'http': 80, 'ldap': 389, 'https': 443}",
   "id": "f2eadd8deaa26aaa",
   "outputs": [],
   "execution_count": 12
  },
  {
   "metadata": {
    "ExecuteTime": {
     "end_time": "2025-05-30T10:36:54.386210Z",
     "start_time": "2025-05-30T10:36:54.382015Z"
    }
   },
   "cell_type": "code",
   "source": "services.pop('https')",
   "id": "7814adc031fa8ae",
   "outputs": [
    {
     "data": {
      "text/plain": [
       "443"
      ]
     },
     "execution_count": 13,
     "metadata": {},
     "output_type": "execute_result"
    }
   ],
   "execution_count": 13
  },
  {
   "metadata": {
    "ExecuteTime": {
     "end_time": "2025-05-30T10:36:58.804119Z",
     "start_time": "2025-05-30T10:36:58.799779Z"
    }
   },
   "cell_type": "code",
   "source": "services",
   "id": "e84e19b28ef116a4",
   "outputs": [
    {
     "data": {
      "text/plain": [
       "{'ftp': 21, 'ssh': 22, 'smtp': 25, 'http': 80, 'ldap': 389}"
      ]
     },
     "execution_count": 14,
     "metadata": {},
     "output_type": "execute_result"
    }
   ],
   "execution_count": 14
  },
  {
   "metadata": {
    "ExecuteTime": {
     "end_time": "2025-05-30T10:37:09.472250Z",
     "start_time": "2025-05-30T10:37:09.468777Z"
    }
   },
   "cell_type": "code",
   "source": "services.popitem()",
   "id": "91b260e6a9efbdf9",
   "outputs": [
    {
     "data": {
      "text/plain": [
       "('ldap', 389)"
      ]
     },
     "execution_count": 15,
     "metadata": {},
     "output_type": "execute_result"
    }
   ],
   "execution_count": 15
  },
  {
   "metadata": {
    "ExecuteTime": {
     "end_time": "2025-05-30T10:37:15.849464Z",
     "start_time": "2025-05-30T10:37:15.846147Z"
    }
   },
   "cell_type": "code",
   "source": "services",
   "id": "1954d1a99bdbd96e",
   "outputs": [
    {
     "data": {
      "text/plain": [
       "{'ftp': 21, 'ssh': 22, 'smtp': 25, 'http': 80}"
      ]
     },
     "execution_count": 16,
     "metadata": {},
     "output_type": "execute_result"
    }
   ],
   "execution_count": 16
  },
  {
   "metadata": {
    "ExecuteTime": {
     "end_time": "2025-05-30T10:37:29.087699Z",
     "start_time": "2025-05-30T10:37:29.084813Z"
    }
   },
   "cell_type": "code",
   "source": "del services['http']",
   "id": "e994f9895f246518",
   "outputs": [],
   "execution_count": 17
  },
  {
   "metadata": {
    "ExecuteTime": {
     "end_time": "2025-05-30T10:37:32.309744Z",
     "start_time": "2025-05-30T10:37:32.305271Z"
    }
   },
   "cell_type": "code",
   "source": "services",
   "id": "daeccc2b84080727",
   "outputs": [
    {
     "data": {
      "text/plain": [
       "{'ftp': 21, 'ssh': 22, 'smtp': 25}"
      ]
     },
     "execution_count": 18,
     "metadata": {},
     "output_type": "execute_result"
    }
   ],
   "execution_count": 18
  },
  {
   "metadata": {
    "ExecuteTime": {
     "end_time": "2025-05-30T10:37:37.939870Z",
     "start_time": "2025-05-30T10:37:37.937412Z"
    }
   },
   "cell_type": "code",
   "source": "services.clear()",
   "id": "97e6d0f6d3b15d8f",
   "outputs": [],
   "execution_count": 19
  },
  {
   "metadata": {
    "ExecuteTime": {
     "end_time": "2025-05-30T10:37:40.213923Z",
     "start_time": "2025-05-30T10:37:40.210319Z"
    }
   },
   "cell_type": "code",
   "source": "services",
   "id": "dd20aa98d2548083",
   "outputs": [
    {
     "data": {
      "text/plain": [
       "{}"
      ]
     },
     "execution_count": 20,
     "metadata": {},
     "output_type": "execute_result"
    }
   ],
   "execution_count": 20
  },
  {
   "metadata": {},
   "cell_type": "code",
   "outputs": [],
   "execution_count": null,
   "source": "",
   "id": "7828e313e8df3496"
  }
 ],
 "metadata": {
  "kernelspec": {
   "display_name": "Python 3",
   "language": "python",
   "name": "python3"
  },
  "language_info": {
   "codemirror_mode": {
    "name": "ipython",
    "version": 2
   },
   "file_extension": ".py",
   "mimetype": "text/x-python",
   "name": "python",
   "nbconvert_exporter": "python",
   "pygments_lexer": "ipython2",
   "version": "2.7.6"
  }
 },
 "nbformat": 4,
 "nbformat_minor": 5
}
