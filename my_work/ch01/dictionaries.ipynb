{
 "cells": [
  {
   "cell_type": "code",
   "id": "initial_id",
   "metadata": {
    "collapsed": true,
    "ExecuteTime": {
     "end_time": "2025-05-29T14:42:43.627444Z",
     "start_time": "2025-05-29T14:42:43.624700Z"
    }
   },
   "source": "services = {'ftp': 21, 'ssh': 22, 'smtp': 25, 'http': 80}",
   "outputs": [],
   "execution_count": 1
  },
  {
   "metadata": {
    "ExecuteTime": {
     "end_time": "2025-05-29T14:42:45.786993Z",
     "start_time": "2025-05-29T14:42:45.780873Z"
    }
   },
   "cell_type": "code",
   "source": "services",
   "id": "9eeccb0007b3da4f",
   "outputs": [
    {
     "data": {
      "text/plain": [
       "{'ftp': 21, 'ssh': 22, 'smtp': 25, 'http': 80}"
      ]
     },
     "execution_count": 2,
     "metadata": {},
     "output_type": "execute_result"
    }
   ],
   "execution_count": 2
  },
  {
   "metadata": {
    "ExecuteTime": {
     "end_time": "2025-05-29T14:42:49.746571Z",
     "start_time": "2025-05-29T14:42:49.742585Z"
    }
   },
   "cell_type": "code",
   "source": "type(services)",
   "id": "53d3a5c6b98baa8d",
   "outputs": [
    {
     "data": {
      "text/plain": [
       "dict"
      ]
     },
     "execution_count": 3,
     "metadata": {},
     "output_type": "execute_result"
    }
   ],
   "execution_count": 3
  },
  {
   "metadata": {
    "ExecuteTime": {
     "end_time": "2025-05-29T14:44:06.717136Z",
     "start_time": "2025-05-29T14:44:06.713318Z"
    }
   },
   "cell_type": "code",
   "source": "services['ftp']",
   "id": "b90eb813cb067e62",
   "outputs": [
    {
     "data": {
      "text/plain": [
       "21"
      ]
     },
     "execution_count": 4,
     "metadata": {},
     "output_type": "execute_result"
    }
   ],
   "execution_count": 4
  },
  {
   "metadata": {
    "ExecuteTime": {
     "end_time": "2025-05-29T14:44:26.925161Z",
     "start_time": "2025-05-29T14:44:26.920617Z"
    }
   },
   "cell_type": "code",
   "source": "services.get('ssh')",
   "id": "67201ac125910a29",
   "outputs": [
    {
     "data": {
      "text/plain": [
       "22"
      ]
     },
     "execution_count": 5,
     "metadata": {},
     "output_type": "execute_result"
    }
   ],
   "execution_count": 5
  },
  {
   "metadata": {
    "ExecuteTime": {
     "end_time": "2025-05-29T14:44:50.091680Z",
     "start_time": "2025-05-29T14:44:50.087767Z"
    }
   },
   "cell_type": "code",
   "source": "services.get('gopher', 'service not found')",
   "id": "419e9fcc70bf96e2",
   "outputs": [
    {
     "data": {
      "text/plain": [
       "'service not found'"
      ]
     },
     "execution_count": 6,
     "metadata": {},
     "output_type": "execute_result"
    }
   ],
   "execution_count": 6
  },
  {
   "metadata": {},
   "cell_type": "code",
   "outputs": [],
   "execution_count": null,
   "source": "",
   "id": "7cd757e28502cddb"
  }
 ],
 "metadata": {
  "kernelspec": {
   "display_name": "Python 3",
   "language": "python",
   "name": "python3"
  },
  "language_info": {
   "codemirror_mode": {
    "name": "ipython",
    "version": 2
   },
   "file_extension": ".py",
   "mimetype": "text/x-python",
   "name": "python",
   "nbconvert_exporter": "python",
   "pygments_lexer": "ipython2",
   "version": "2.7.6"
  }
 },
 "nbformat": 4,
 "nbformat_minor": 5
}
